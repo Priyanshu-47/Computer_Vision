{
 "cells": [
  {
   "cell_type": "code",
   "execution_count": 1,
   "metadata": {},
   "outputs": [],
   "source": [
    "import cv2\n",
    "import numpy as np\n",
    "import random\n",
    "import matplotlib.pyplot as plot"
   ]
  },
  {
   "cell_type": "code",
   "execution_count": 2,
   "metadata": {},
   "outputs": [
    {
     "name": "stdout",
     "output_type": "stream",
     "text": [
      "1\n"
     ]
    }
   ],
   "source": [
    "print(random.randint(0,9))"
   ]
  },
  {
   "cell_type": "code",
   "execution_count": 3,
   "metadata": {},
   "outputs": [
    {
     "name": "stdout",
     "output_type": "stream",
     "text": [
      "Enter the size of the image: 1000 500\n",
      "1000\n",
      "500\n"
     ]
    }
   ],
   "source": [
    "rw, cl = input(\"Enter the size of the image: \").split()\n",
    "rw = int(rw)\n",
    "cl = int(cl)\n",
    "print(rw)\n",
    "print(cl)"
   ]
  },
  {
   "cell_type": "code",
   "execution_count": 4,
   "metadata": {},
   "outputs": [
    {
     "name": "stdout",
     "output_type": "stream",
     "text": [
      "[[[ 32. 230. 108.]\n",
      "  [ 30.  51. 120.]\n",
      "  [ 40. 136.  25.]\n",
      "  ...\n",
      "  [196. 203.  27.]\n",
      "  [245. 123. 171.]\n",
      "  [172. 185. 245.]]\n",
      "\n",
      " [[191.  31. 241.]\n",
      "  [217.  97.  99.]\n",
      "  [ 45. 189. 150.]\n",
      "  ...\n",
      "  [137. 161. 251.]\n",
      "  [210.  36.  80.]\n",
      "  [ 87. 170. 177.]]\n",
      "\n",
      " [[  7. 189. 117.]\n",
      "  [ 32. 155. 105.]\n",
      "  [148. 123.  35.]\n",
      "  ...\n",
      "  [ 71. 167. 148.]\n",
      "  [122.  41.  14.]\n",
      "  [179.  52. 160.]]\n",
      "\n",
      " ...\n",
      "\n",
      " [[228.  57. 251.]\n",
      "  [166. 212.  65.]\n",
      "  [246.  22. 133.]\n",
      "  ...\n",
      "  [ 34.  46. 192.]\n",
      "  [154. 227. 155.]\n",
      "  [204.  56.  34.]]\n",
      "\n",
      " [[190. 132. 231.]\n",
      "  [ 25.  54.   7.]\n",
      "  [248.  47.  20.]\n",
      "  ...\n",
      "  [194. 220. 205.]\n",
      "  [ 51. 101. 224.]\n",
      "  [133. 185. 137.]]\n",
      "\n",
      " [[ 17.  26. 214.]\n",
      "  [152. 250. 227.]\n",
      "  [180. 236.  98.]\n",
      "  ...\n",
      "  [212. 217.  26.]\n",
      "  [  6. 188. 178.]\n",
      "  [215.  39. 193.]]]\n",
      "<class 'numpy.ndarray'>\n"
     ]
    }
   ],
   "source": [
    "custom_image = np.random.randint(0, 255, (cl, rw, 3))\n",
    "custom_image = custom_image.astype(float)\n",
    "print(custom_image)\n",
    "print(type(custom_image))"
   ]
  },
  {
   "cell_type": "code",
   "execution_count": 5,
   "metadata": {},
   "outputs": [
    {
     "data": {
      "text/plain": [
       "(500, 1000, 3)"
      ]
     },
     "execution_count": 5,
     "metadata": {},
     "output_type": "execute_result"
    }
   ],
   "source": [
    "custom_image.shape"
   ]
  },
  {
   "cell_type": "code",
   "execution_count": null,
   "metadata": {},
   "outputs": [],
   "source": [
    "cv2.imshow(\"Custom Created Image\", custom_image)\n",
    "cv2.waitKey(0) == 13\n",
    "cv2.destroyAllWindows()"
   ]
  },
  {
   "cell_type": "code",
   "execution_count": null,
   "metadata": {},
   "outputs": [],
   "source": [
    "cv2.imwrite(\"CustomImage.jpg\",custom_image)"
   ]
  },
  {
   "cell_type": "code",
   "execution_count": null,
   "metadata": {},
   "outputs": [],
   "source": []
  }
 ],
 "metadata": {
  "kernelspec": {
   "display_name": "Python 3",
   "language": "python",
   "name": "python3"
  },
  "language_info": {
   "codemirror_mode": {
    "name": "ipython",
    "version": 3
   },
   "file_extension": ".py",
   "mimetype": "text/x-python",
   "name": "python",
   "nbconvert_exporter": "python",
   "pygments_lexer": "ipython3",
   "version": "3.8.3"
  }
 },
 "nbformat": 4,
 "nbformat_minor": 4
}
